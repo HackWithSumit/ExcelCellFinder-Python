{
 "cells": [
  {
   "cell_type": "code",
   "execution_count": null,
   "id": "6291d526-9c22-4874-a996-4fba9931d1d8",
   "metadata": {
    "tags": []
   },
   "outputs": [],
   "source": [
    "import pandas as pd\n",
    "\n",
    "def convert_date_format(input_path):\n",
    "    try:\n",
    "        # Read the Excel file\n",
    "        df = pd.read_excel(input_path)\n",
    "        \n",
    "        # Find the column containing 'last login' or similar in the column name\n",
    "        date_column = None\n",
    "        for col in df.columns:\n",
    "            if 'last login' in str(col).lower():\n",
    "                date_column = col\n",
    "                break\n",
    "        \n",
    "        if date_column is None:\n",
    "            print(\"Column containing 'last login' not found in the Excel sheet.\")\n",
    "            return\n",
    "        \n",
    "        # Convert the date column to datetime format (handling different date formats)\n",
    "        df[date_column] = pd.to_datetime(df[date_column], errors='coerce')\n",
    "        \n",
    "        # Convert the datetime column to desired date format (dd-mm-yyyy)\n",
    "        df[date_column] = df[date_column].dt.strftime('%d-%m-%Y')\n",
    "        \n",
    "        # Save the updated DataFrame back to Excel\n",
    "        output_path = input_path.split('.')[0] + '_formatted.xlsx'\n",
    "        df.to_excel(output_path, index=False)\n",
    "        \n",
    "        print(f\"Date column '{date_column}' formatted and saved to '{output_path}'.\")\n",
    "        \n",
    "    except Exception as e:\n",
    "        print(f\"An error occurred: {e}\")\n",
    "\n",
    "# Ask user for Excel file path\n",
    "excel_path = input(\"Enter the path of the Excel file: \")\n",
    "\n",
    "# Call the function to convert date format\n",
    "convert_date_format(excel_path)\n",
    "\n"
   ]
  },
  {
   "cell_type": "code",
   "execution_count": 2,
   "id": "75670dbc-52ca-4788-bf18-567cd02f732e",
   "metadata": {},
   "outputs": [
    {
     "name": "stdin",
     "output_type": "stream",
     "text": [
      "Enter the path of the Excel file:  C:/Users/sumit/OneDrive/Desktop\n"
     ]
    },
    {
     "name": "stdout",
     "output_type": "stream",
     "text": [
      "An error occurred: [Errno 13] Permission denied: 'C:/Users/sumit/OneDrive/Desktop'\n"
     ]
    }
   ],
   "source": []
  },
  {
   "cell_type": "code",
   "execution_count": null,
   "id": "de4a6667-0726-4702-8af2-bb4ab6d13a8a",
   "metadata": {},
   "outputs": [],
   "source": []
  }
 ],
 "metadata": {
  "kernelspec": {
   "display_name": "Python 3 (ipykernel)",
   "language": "python",
   "name": "python3"
  },
  "language_info": {
   "codemirror_mode": {
    "name": "ipython",
    "version": 3
   },
   "file_extension": ".py",
   "mimetype": "text/x-python",
   "name": "python",
   "nbconvert_exporter": "python",
   "pygments_lexer": "ipython3",
   "version": "3.8.16"
  }
 },
 "nbformat": 4,
 "nbformat_minor": 5
}
